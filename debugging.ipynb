{
 "cells": [
  {
   "cell_type": "code",
   "execution_count": 1,
   "metadata": {
    "collapsed": false
   },
   "outputs": [
    {
     "name": "stderr",
     "output_type": "stream",
     "text": [
      "Using TensorFlow backend.\n"
     ]
    }
   ],
   "source": [
    "%matplotlib inline\n",
    "\n",
    "import h5py\n",
    "import numpy as np\n",
    "import matplotlib.pyplot as plt\n",
    "\n",
    "from autoencoder.model import MoleculeVAE\n",
    "from autoencoder.utils import one_hot_array, one_hot_index, from_one_hot_array, \\\n",
    "    decode_smiles_from_indexes, load_dataset\n",
    "\n",
    "from keras.models import Model\n",
    "from keras.layers import Input\n",
    "\n",
    "from sklearn.manifold import TSNE\n",
    "from sklearn.decomposition import PCA\n",
    "\n",
    "from IPython.display import SVG\n",
    "from keras.utils.visualize_util import model_to_dot"
   ]
  },
  {
   "cell_type": "code",
   "execution_count": 2,
   "metadata": {
    "collapsed": true
   },
   "outputs": [],
   "source": [
    "data, charset = load_dataset('data/all_smiles_120_one_hot.h5', split = False)"
   ]
  },
  {
   "cell_type": "code",
   "execution_count": 3,
   "metadata": {
    "collapsed": false
   },
   "outputs": [],
   "source": [
    "model = MoleculeVAE()\n",
    "model.load(charset, 'target/model.h5', latent_rep_size = 292)"
   ]
  },
  {
   "cell_type": "code",
   "execution_count": 4,
   "metadata": {
    "collapsed": false
   },
   "outputs": [
    {
     "data": {
      "text/plain": [
       "'COc1cc2C(=O)c3ccccc3Oc2cc1O'"
      ]
     },
     "execution_count": 4,
     "metadata": {},
     "output_type": "execute_result"
    }
   ],
   "source": [
    "mol = data[0].reshape(1, 120, 55)\n",
    "\n",
    "decode_smiles_from_indexes(mol[0].argmax(axis = 1), charset)"
   ]
  },
  {
   "cell_type": "markdown",
   "metadata": {},
   "source": [
    "# encoder/decoder not functioning properly\n",
    "\n",
    "There are three `Model`s defined in `autoencoder/model.py`: autoencoder, encoder, and decoder. They all share weights. I've manually checked that the weights are being loaded properly. Running the autoencoder model forward works just fine:"
   ]
  },
  {
   "cell_type": "code",
   "execution_count": 5,
   "metadata": {
    "collapsed": false
   },
   "outputs": [
    {
     "data": {
      "text/plain": [
       "array([[[  9.96431845e-06,   6.24905488e-06,   2.08488107e-08, ...,\n",
       "           9.50873618e-06,   1.27682796e-07,   1.37490214e-10],\n",
       "        [  2.64823520e-05,   1.10168279e-04,   2.88211510e-07, ...,\n",
       "           8.31406197e-08,   2.01843545e-06,   5.11892369e-11],\n",
       "        [  8.30612294e-07,   6.02378520e-08,   1.85686980e-10, ...,\n",
       "           3.79500875e-09,   2.59887997e-06,   2.54319829e-12],\n",
       "        ..., \n",
       "        [  9.99999881e-01,   4.83881372e-11,   1.30446365e-09, ...,\n",
       "           4.54286525e-10,   2.41011603e-11,   7.87176964e-13],\n",
       "        [  9.99999404e-01,   8.72303757e-11,   2.35188136e-09, ...,\n",
       "           2.70053735e-09,   7.95984043e-11,   5.27387758e-13],\n",
       "        [  9.99999046e-01,   1.50223139e-10,   4.28040003e-09, ...,\n",
       "           5.68195491e-09,   5.57447644e-10,   4.44262438e-13]]], dtype=float32)"
      ]
     },
     "execution_count": 5,
     "metadata": {},
     "output_type": "execute_result"
    }
   ],
   "source": [
    "y = model.autoencoder.predict(mol)\n",
    "y"
   ]
  },
  {
   "cell_type": "code",
   "execution_count": 6,
   "metadata": {
    "collapsed": false
   },
   "outputs": [
    {
     "data": {
      "text/plain": [
       "'COc1cc2C(=O)c3ccccc3)c2cc1O'"
      ]
     },
     "execution_count": 6,
     "metadata": {},
     "output_type": "execute_result"
    }
   ],
   "source": [
    "decode_smiles_from_indexes(y[0].argmax(axis = 1), charset)"
   ]
  },
  {
   "cell_type": "markdown",
   "metadata": {},
   "source": [
    "# but running the encoder and decoder models together doesn't work at all and I'm at a loss for why:"
   ]
  },
  {
   "cell_type": "code",
   "execution_count": 7,
   "metadata": {
    "collapsed": false,
    "scrolled": true
   },
   "outputs": [
    {
     "data": {
      "text/plain": [
       "array([[[ 0.0196742 ,  0.01981948,  0.01690715, ...,  0.01669697,\n",
       "          0.01540486,  0.01897484],\n",
       "        [ 0.01967454,  0.01930014,  0.01631894, ...,  0.01600836,\n",
       "          0.01431536,  0.01968929],\n",
       "        [ 0.0193207 ,  0.01795789,  0.0159542 , ...,  0.01556105,\n",
       "          0.01336346,  0.02021892],\n",
       "        ..., \n",
       "        [ 0.01481041,  0.00914408,  0.01681479, ...,  0.01505758,\n",
       "          0.01204179,  0.01918893],\n",
       "        [ 0.01481041,  0.00914408,  0.01681479, ...,  0.01505758,\n",
       "          0.01204179,  0.01918893],\n",
       "        [ 0.01481041,  0.00914408,  0.0168148 , ...,  0.01505758,\n",
       "          0.01204179,  0.01918893]]], dtype=float32)"
      ]
     },
     "execution_count": 7,
     "metadata": {},
     "output_type": "execute_result"
    }
   ],
   "source": [
    "x_latent = model.encoder.predict(mol)\n",
    "y_hat = model.decoder.predict(x_latent)\n",
    "y_hat"
   ]
  },
  {
   "cell_type": "code",
   "execution_count": 8,
   "metadata": {
    "collapsed": false
   },
   "outputs": [
    {
     "data": {
      "text/plain": [
       "'C======================================================================================================================='"
      ]
     },
     "execution_count": 8,
     "metadata": {},
     "output_type": "execute_result"
    }
   ],
   "source": [
    "decode_smiles_from_indexes(y_hat[0].argmax(axis = 1), charset)"
   ]
  },
  {
   "cell_type": "markdown",
   "metadata": {},
   "source": [
    "# the weight matrices seem to be loaded totally fine:"
   ]
  },
  {
   "cell_type": "code",
   "execution_count": 9,
   "metadata": {
    "collapsed": false
   },
   "outputs": [
    {
     "data": {
      "text/plain": [
       "array([[ True,  True,  True, ...,  True,  True,  True],\n",
       "       [ True,  True,  True, ...,  True,  True,  True],\n",
       "       [ True,  True,  True, ...,  True,  True,  True],\n",
       "       ..., \n",
       "       [ True,  True,  True, ...,  True,  True,  True],\n",
       "       [ True,  True,  True, ...,  True,  True,  True],\n",
       "       [ True,  True,  True, ...,  True,  True,  True]], dtype=bool)"
      ]
     },
     "execution_count": 9,
     "metadata": {},
     "output_type": "execute_result"
    }
   ],
   "source": [
    "model.encoder.get_layer(\"z_mean\").get_weights()[0] == model.autoencoder.get_layer(\"z_mean\").get_weights()[0]"
   ]
  },
  {
   "cell_type": "code",
   "execution_count": 10,
   "metadata": {
    "collapsed": false
   },
   "outputs": [
    {
     "data": {
      "text/plain": [
       "array([[ True,  True,  True, ...,  True,  True,  True],\n",
       "       [ True,  True,  True, ...,  True,  True,  True],\n",
       "       [ True,  True,  True, ...,  True,  True,  True],\n",
       "       ..., \n",
       "       [ True,  True,  True, ...,  True,  True,  True],\n",
       "       [ True,  True,  True, ...,  True,  True,  True],\n",
       "       [ True,  True,  True, ...,  True,  True,  True]], dtype=bool)"
      ]
     },
     "execution_count": 10,
     "metadata": {},
     "output_type": "execute_result"
    }
   ],
   "source": [
    "model.decoder.get_layer(\"decoded_mean\").get_weights()[0] == model.autoencoder.get_layer(\"decoded_mean\").get_weights()[0]"
   ]
  },
  {
   "cell_type": "code",
   "execution_count": null,
   "metadata": {
    "collapsed": true
   },
   "outputs": [],
   "source": []
  }
 ],
 "metadata": {
  "kernelspec": {
   "display_name": "Python 2",
   "language": "python",
   "name": "python2"
  },
  "language_info": {
   "codemirror_mode": {
    "name": "ipython",
    "version": 2
   },
   "file_extension": ".py",
   "mimetype": "text/x-python",
   "name": "python",
   "nbconvert_exporter": "python",
   "pygments_lexer": "ipython2",
   "version": "2.7.11"
  }
 },
 "nbformat": 4,
 "nbformat_minor": 0
}
